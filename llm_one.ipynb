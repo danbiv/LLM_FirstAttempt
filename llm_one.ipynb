{
 "cells": [
  {
   "cell_type": "code",
   "execution_count": 6,
   "metadata": {},
   "outputs": [],
   "source": [
    "# !pip3 install torch torchvision torchaudio --index-url https://download.pytorch.org/whl/cu118\n",
    "import torch\n",
    "import torch.nn as nn \n",
    "import torch.nn.functional as F\n",
    "\n",
    "from torch.optim import Adam\n",
    "from torch.utils.data import TensorDataset, DataLoader\n",
    "\n",
    "# !pip install lightning\n",
    "import lightning as L\n"
   ]
  },
  {
   "cell_type": "code",
   "execution_count": 14,
   "metadata": {},
   "outputs": [],
   "source": [
    "# Test input\n",
    "token_to_id = {\n",
    "    \"what\"  : 0,\n",
    "    \"are\"   : 1,\n",
    "    \"llm\"   : 2, # little language model\n",
    "    \"awesome\": 3,\n",
    "    \"<EOS>\" : 4, \n",
    "}\n",
    "\n",
    "id_to_token = dict(map(reversed, token_to_id.items()))"
   ]
  },
  {
   "cell_type": "code",
   "execution_count": 15,
   "metadata": {},
   "outputs": [],
   "source": [
    "# Process The Prompt\n",
    "# \"what are llm\"\n",
    "# \"llm are what\"\n",
    "# Respond -> \"awesome\"\n",
    "\n",
    "# Tokens come from both processing a prompt and generating outputs\n",
    "inputs = torch.tensor([\n",
    "    #What are llm? -> awsome\n",
    "    [token_to_id[\"what\"],token_to_id[\"are\"],token_to_id[\"llm\"],token_to_id[\"<EOS>\"],token_to_id[\"awesome\"]],\n",
    "    #LLM are what? -> awsome\n",
    "    [token_to_id[\"llm\"],token_to_id[\"are\"],token_to_id[\"what\"],token_to_id[\"<EOS>\"],token_to_id[\"awesome\"]]\n",
    "])\n",
    "\n",
    "labels = torch.tensor([\n",
    "    #What [are llm? -> awsome]\n",
    "    [token_to_id[\"are\"],token_to_id[\"llm\"],token_to_id[\"<EOS>\"],token_to_id[\"awesome\"],token_to_id[\"<EOS>\"]],\n",
    "    #LLM [are what? -> awsome]\n",
    "    [token_to_id[\"are\"],token_to_id[\"what\"],token_to_id[\"<EOS>\"],token_to_id[\"awesome\"],token_to_id[\"<EOS>\"]],\n",
    "])\n",
    "\n",
    "dataset    = TensorDataset(inputs,labels)\n",
    "dataloader = DataLoader(dataset)"
   ]
  },
  {
   "cell_type": "code",
   "execution_count": 16,
   "metadata": {},
   "outputs": [],
   "source": [
    "class PositionEncoding(nn.Module):\n",
    "    # d_model = Dimension of model is number of word embedding values per token\n",
    "    # max_len = maximum number of tokens our Transformer can process\n",
    "    def __init__(self, d_model=2, max_len=6):\n",
    "        super().__init__()                # overwrite the init inherited from nn.Module\n",
    "        pe = torch.zeros(max_len,d_model) # create a lookup tabel of position encoding values, and intialize them to zero\n",
    "        \n",
    "        # Create a sequence of numbers for each position that a token can have in the input/output\n",
    "        position = torch.arange(start=0, end=max_len, step=1).float().unsqueeze(1) # unsqueeze converts to column matrix\n",
    "        embedding_index = torch.arange(start=0,end=d_model, step=2).float()        # i * 2\n",
    "\n",
    "        div_term = 1/torch.tensor(10000.0)**(embedding_index / d_model) \n",
    "        pe[:, 0::2] = torch.sin(position*div_term)    # First Column has values from the SIN Function\n",
    "        pe[:, 1::2] = torch.cos(position* div_term)   # Second Column has values from the COS function\n",
    "\n",
    "        self.register_buffer(\"pe\", pe) # Move PE to GPU \n",
    "    \n",
    "    def forward(self, word_embeddings):\n",
    "        # Add position encoding values to word embedding values\n",
    "        return word_embeddings + self.pe[:word_embeddings.size(0), :]\n",
    "    \n",
    "\n"
   ]
  },
  {
   "cell_type": "code",
   "execution_count": 17,
   "metadata": {},
   "outputs": [],
   "source": [
    "# Attention \n",
    "# Create a class which does the matrix multiplication of quereys, keys, and values\n",
    "class Attention(nn.Module):\n",
    "    def __init__(self, d_model=2):\n",
    "        super().__init__()\n",
    "        self.d_model = d_model\n",
    "\n",
    "        # Initialize weights for each querey (q), key (k) and  value (v)\n",
    "        self.W_q = nn.Linear(in_features=d_model, out_features=d_model, bias=False)\n",
    "        self.W_k = nn.Linear(in_features=d_model, out_features=d_model, bias=False)\n",
    "        self.W_v = nn.Linear(in_features=d_model, out_features=d_model, bias=False)\n",
    "\n",
    "        self.row_dim = 0\n",
    "        self.col_dim = 1\n",
    "\n",
    "    def forward(self, encodings_for_q, encodings_for_k, encodings_for_v, mask = None):\n",
    "\n",
    "        # Create quereym key and values using the encodings associated with each token\n",
    "        q = self.W_q(encodings_for_q)\n",
    "        k = self.W_k(encodings_for_k)\n",
    "        v = self.W_v(encodings_for_v)\n",
    "\n",
    "        # Compute attention scores using the equation (q * k^T)/sqrt(d_model)\n",
    "        sims = torch.matmul(q, k.transpose(dim0=self.row_dim, dim1=self.col_dim))\n",
    "\n",
    "        # Scale attention scores  - more for large models than this one\n",
    "        scaled_sims = sims / torch.tensor(k.size(self.col_dim)**0.5)\n",
    "\n",
    "        # Mask out parts of the model we dont want to pay attention to\n",
    "        # These are things like future tokens, <PAD> tokens\n",
    "        # This is done by rplacing these values with very large negative numbers \n",
    "        # This causes the SoftMax Function to return probabilities for these values of zero\n",
    "        if mask is not None:\n",
    "            scaled_sims = scaled_sims.masked_fill(mask=mask, value=-1e10) \n",
    "        \n",
    "        # Apply the softmax to determine what percent of each tokens value to use in the final attention value\n",
    "        attention_percents = F.softmax(scaled_sims, dim=self.col_dim)\n",
    "\n",
    "        # Calculate score by percents\n",
    "        attention_scores = torch.matmul(attention_percents, v)\n",
    "        \n",
    "        return attention_scores\n",
    "\n"
   ]
  },
  {
   "cell_type": "code",
   "execution_count": 18,
   "metadata": {},
   "outputs": [],
   "source": [
    "class DecoderOnlyTransformer(L.LightningModule):\n",
    "    \n",
    "    def __init__(self, num_tokens=4, d_model=2, max_len=6):\n",
    "        \n",
    "        super().__init__()\n",
    "        \n",
    "        # set the seed so that you can get the same results for test\n",
    "        L.seed_everything(seed=42)\n",
    "\n",
    "        self.we = nn.Embedding(num_embeddings=num_tokens, \n",
    "                               embedding_dim=d_model)     \n",
    "        \n",
    "        self.pe = PositionEncoding(d_model=d_model, \n",
    "                                   max_len=max_len)\n",
    "\n",
    "        self.self_attention = Attention(d_model=d_model)\n",
    "\n",
    "        self.fc_layer = nn.Linear(in_features=d_model, out_features=num_tokens)\n",
    "        \n",
    "        self.loss = nn.CrossEntropyLoss()\n",
    "        \n",
    "        \n",
    "    def forward(self, token_ids):\n",
    "                \n",
    "        word_embeddings = self.we(token_ids)        \n",
    "        position_encoded = self.pe(word_embeddings)\n",
    "        \n",
    "        mask = torch.tril(torch.ones((token_ids.size(dim=0), token_ids.size(dim=0)), device=self.device))\n",
    "\n",
    "        mask = mask == 0\n",
    "        \n",
    "        self_attention_values = self.self_attention(position_encoded, \n",
    "                                                    position_encoded, \n",
    "                                                    position_encoded, \n",
    "                                                    mask=mask)\n",
    "   \n",
    "        residual_connection_values = position_encoded + self_attention_values\n",
    "        \n",
    "        fc_layer_output = self.fc_layer(residual_connection_values)\n",
    "        \n",
    "        return fc_layer_output\n",
    "    \n",
    "    \n",
    "    def configure_optimizers(self): \n",
    "        return Adam(self.parameters(), lr=0.1)\n",
    "    \n",
    "    def training_step(self, batch, batch_idx): \n",
    "\n",
    "        input_tokens, labels = batch \n",
    "        output = self.forward(input_tokens[0])\n",
    "        loss = self.loss(output, labels[0])\n",
    "                    \n",
    "        return loss"
   ]
  },
  {
   "cell_type": "code",
   "execution_count": 20,
   "metadata": {},
   "outputs": [
    {
     "name": "stderr",
     "output_type": "stream",
     "text": [
      "Seed set to 42\n"
     ]
    },
    {
     "name": "stdout",
     "output_type": "stream",
     "text": [
      "Predicted Tokens:\n",
      "\n",
      "\t <EOS>\n"
     ]
    }
   ],
   "source": [
    "## First, create a model from DecoderOnlyTransformer()\n",
    "model = DecoderOnlyTransformer(num_tokens=len(token_to_id), d_model=2, max_len=6)\n",
    "\n",
    "## Now create the input for the transformer...\n",
    "model_input = torch.tensor([token_to_id[\"what\"], \n",
    "                            token_to_id[\"are\"], \n",
    "                            token_to_id[\"llm\"], \n",
    "                            token_to_id[\"<EOS>\"]])\n",
    "input_length = model_input.size(dim=0)\n",
    "\n",
    "## Now get get predictions from the model\n",
    "predictions = model(model_input) \n",
    "## NOTE: \"predictions\" is the output from the fully connected layer,\n",
    "##      not a softmax() function. We could, if we wanted to,\n",
    "##      Run \"predictions\" through a softmax() function, but \n",
    "##      since we're going to select the item with the largest value\n",
    "##      we can just use argmax instead...\n",
    "## ALSO NOTE: \"predictions\" is a matrix, with one row of predicted values\n",
    "##      per input token. Since we only want the prediction from the\n",
    "##      last row (the most recent prediction) we use reverse index for the\n",
    "##      row, -1.\n",
    "predicted_id = torch.tensor([torch.argmax(predictions[-1,:])])\n",
    "## We'll store predicted_id in an array, predicted_ids, that\n",
    "## we'll add to each time we predict a new output token.\n",
    "predicted_ids = predicted_id\n",
    "\n",
    "## Now use a loop to predict output tokens until we get an \n",
    "## <EOS> token.\n",
    "max_length = 6\n",
    "for i in range(input_length, max_length):\n",
    "    if (predicted_id == token_to_id[\"<EOS>\"]): # if the prediction is <EOS>, then we are done\n",
    "        break\n",
    "    \n",
    "    model_input = torch.cat((model_input, predicted_id))\n",
    "    \n",
    "    predictions = model(model_input) \n",
    "    predicted_id = torch.tensor([torch.argmax(predictions[-1,:])])\n",
    "    predicted_ids = torch.cat((predicted_ids, predicted_id))\n",
    "        \n",
    "## Now printout the predicted output phrase.\n",
    "print(\"Predicted Tokens:\\n\") \n",
    "for id in predicted_ids: \n",
    "    print(\"\\t\", id_to_token[id.item()])"
   ]
  },
  {
   "cell_type": "code",
   "execution_count": 21,
   "metadata": {},
   "outputs": [
    {
     "name": "stderr",
     "output_type": "stream",
     "text": [
      "GPU available: True (cuda), used: True\n",
      "TPU available: False, using: 0 TPU cores\n",
      "HPU available: False, using: 0 HPUs\n",
      "You are using a CUDA device ('NVIDIA GeForce RTX 4080') that has Tensor Cores. To properly utilize them, you should set `torch.set_float32_matmul_precision('medium' | 'high')` which will trade-off precision for performance. For more details, read https://pytorch.org/docs/stable/generated/torch.set_float32_matmul_precision.html#torch.set_float32_matmul_precision\n",
      "LOCAL_RANK: 0 - CUDA_VISIBLE_DEVICES: [0]\n",
      "\n",
      "  | Name           | Type             | Params | Mode \n",
      "------------------------------------------------------------\n",
      "0 | we             | Embedding        | 10     | train\n",
      "1 | pe             | PositionEncoding | 0      | train\n",
      "2 | self_attention | Attention        | 12     | train\n",
      "3 | fc_layer       | Linear           | 15     | train\n",
      "4 | loss           | CrossEntropyLoss | 0      | train\n",
      "------------------------------------------------------------\n",
      "37        Trainable params\n",
      "0         Non-trainable params\n",
      "37        Total params\n",
      "0.000     Total estimated model params size (MB)\n",
      "8         Modules in train mode\n",
      "0         Modules in eval mode\n",
      "c:\\Users\\DanBiv\\anaconda3\\envs\\tf\\lib\\site-packages\\lightning\\pytorch\\trainer\\connectors\\data_connector.py:424: The 'train_dataloader' does not have many workers which may be a bottleneck. Consider increasing the value of the `num_workers` argument` to `num_workers=23` in the `DataLoader` to improve performance.\n",
      "c:\\Users\\DanBiv\\anaconda3\\envs\\tf\\lib\\site-packages\\lightning\\pytorch\\loops\\fit_loop.py:298: The number of training batches (2) is smaller than the logging interval Trainer(log_every_n_steps=50). Set a lower value for log_every_n_steps if you want to see logs for the training epoch.\n"
     ]
    },
    {
     "data": {
      "application/vnd.jupyter.widget-view+json": {
       "model_id": "522675bdfc274973b7968360cae252f5",
       "version_major": 2,
       "version_minor": 0
      },
      "text/plain": [
       "Training: |          | 0/? [00:00<?, ?it/s]"
      ]
     },
     "metadata": {},
     "output_type": "display_data"
    },
    {
     "name": "stderr",
     "output_type": "stream",
     "text": [
      "`Trainer.fit` stopped: `max_epochs=30` reached.\n"
     ]
    }
   ],
   "source": [
    "\n",
    "\n",
    "trainer = L.Trainer(max_epochs=30)\n",
    "trainer.fit(model, train_dataloaders=dataloader)\n",
    "\n"
   ]
  },
  {
   "cell_type": "code",
   "execution_count": 22,
   "metadata": {},
   "outputs": [
    {
     "name": "stdout",
     "output_type": "stream",
     "text": [
      "Predicted Tokens:\n",
      "\n",
      "\t awesome\n",
      "\t <EOS>\n"
     ]
    }
   ],
   "source": [
    "model_input = torch.tensor([token_to_id[\"what\"], \n",
    "                            token_to_id[\"are\"], \n",
    "                            token_to_id[\"llm\"], \n",
    "                            token_to_id[\"<EOS>\"]])\n",
    "input_length = model_input.size(dim=0)\n",
    "\n",
    "predictions = model(model_input) \n",
    "predicted_id = torch.tensor([torch.argmax(predictions[-1,:])])\n",
    "predicted_ids = predicted_id\n",
    "\n",
    "for i in range(input_length, max_length):\n",
    "    if (predicted_id == token_to_id[\"<EOS>\"]): # if the prediction is <EOS>, then we are done\n",
    "        break\n",
    "    \n",
    "    model_input = torch.cat((model_input, predicted_id))\n",
    "    \n",
    "    predictions = model(model_input) \n",
    "    predicted_id = torch.tensor([torch.argmax(predictions[-1,:])])\n",
    "    predicted_ids = torch.cat((predicted_ids, predicted_id))\n",
    "        \n",
    "print(\"Predicted Tokens:\\n\") \n",
    "for id in predicted_ids: \n",
    "    print(\"\\t\", id_to_token[id.item()])"
   ]
  },
  {
   "cell_type": "code",
   "execution_count": 23,
   "metadata": {},
   "outputs": [
    {
     "name": "stdout",
     "output_type": "stream",
     "text": [
      "Predicted Tokens:\n",
      "\n",
      "\t awesome\n",
      "\t <EOS>\n"
     ]
    }
   ],
   "source": [
    "## Now let's ask the other question...\n",
    "model_input = torch.tensor([token_to_id[\"llm\"], \n",
    "                            token_to_id[\"are\"], \n",
    "                            token_to_id[\"what\"], \n",
    "                            token_to_id[\"<EOS>\"]])\n",
    "input_length = model_input.size(dim=0)\n",
    "\n",
    "predictions = model(model_input) \n",
    "predicted_id = torch.tensor([torch.argmax(predictions[-1,:])])\n",
    "predicted_ids = predicted_id\n",
    "\n",
    "for i in range(input_length, max_length):\n",
    "    if (predicted_id == token_to_id[\"<EOS>\"]): # if the prediction is <EOS>, then we are done\n",
    "        break\n",
    "    \n",
    "    model_input = torch.cat((model_input, predicted_id))\n",
    "    \n",
    "    predictions = model(model_input) \n",
    "    predicted_id = torch.tensor([torch.argmax(predictions[-1,:])])\n",
    "    predicted_ids = torch.cat((predicted_ids, predicted_id))\n",
    "        \n",
    "print(\"Predicted Tokens:\\n\") \n",
    "for id in predicted_ids: \n",
    "    print(\"\\t\", id_to_token[id.item()])"
   ]
  },
  {
   "cell_type": "code",
   "execution_count": null,
   "metadata": {},
   "outputs": [],
   "source": []
  }
 ],
 "metadata": {
  "language_info": {
   "name": "python"
  }
 },
 "nbformat": 4,
 "nbformat_minor": 2
}
